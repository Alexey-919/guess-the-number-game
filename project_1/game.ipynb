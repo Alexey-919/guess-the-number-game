{
 "cells": [
  {
   "attachments": {},
   "cell_type": "markdown",
   "metadata": {},
   "source": [
    "# Игра угадай число"
   ]
  },
  {
   "cell_type": "code",
   "execution_count": 3,
   "metadata": {},
   "outputs": [],
   "source": [
    "from game_v3 import score_game_core_v3\n",
    "from game_v3 import game_core_v3"
   ]
  },
  {
   "attachments": {},
   "cell_type": "markdown",
   "metadata": {},
   "source": [
    "## Угадываем рандомно"
   ]
  },
  {
   "cell_type": "code",
   "execution_count": 7,
   "metadata": {},
   "outputs": [
    {
     "name": "stdout",
     "output_type": "stream",
     "text": [
      "Ваш алгоритм угадывает число в среднем за: 5 попыток\n"
     ]
    },
    {
     "data": {
      "text/plain": [
       "5"
      ]
     },
     "execution_count": 7,
     "metadata": {},
     "output_type": "execute_result"
    }
   ],
   "source": [
    "score_game_core_v3(game_core_v3) #вызов функции"
   ]
  },
  {
   "cell_type": "code",
   "execution_count": 2,
   "metadata": {},
   "outputs": [
    {
     "name": "stdout",
     "output_type": "stream",
     "text": [
      "Ваш алгоритм угадывает число в среднем за: 5 попыток\n"
     ]
    }
   ],
   "source": [
    "import numpy as np\n",
    "\n",
    "def game_core_v3(number) -> int:\n",
    "  \"\"\"Угадываем число с наименьшим количеством попыток, на каждой итерации делим диапазон значений на 2.\n",
    "\n",
    "    Args:\n",
    "        number (int, optional): Загаданное число.\n",
    "\n",
    "    Returns:\n",
    "        int: Число попыток\n",
    "    \"\"\"\n",
    "  min = 0\n",
    "  max = 100\n",
    "  count = 0\n",
    "\n",
    "  while True:\n",
    "    predict = round((min+max)/2)\n",
    "    count += 1\n",
    "    if number == predict:\n",
    "      break\n",
    "    elif number > predict:\n",
    "      min = predict\n",
    "    elif number < predict:\n",
    "      max = predict\n",
    "  # print(f\"Вы угадали число {number} за {count} попыток\") \n",
    "  return count\n",
    "\n",
    "def score_game_core_v3(game_core_v3) -> int:\n",
    "    \"\"\"За какое количество попыток в среднем из 10000 подходов угадывает наш алгоритм\n",
    "    Args:\n",
    "        game_core_v3 ([type]): функция угадывания\n",
    "    Returns:\n",
    "        int: среднее количество попыток\n",
    "    \"\"\"\n",
    "\n",
    "    count_ls = [] # список для сохранения количества попыток\n",
    "    np.random.seed(1) # фиксируем сид для воспроизводимости\n",
    "    random_array = np.random.randint(1, 101, size=(10000)) # загадали список чисел\n",
    "\n",
    "    for number in random_array:\n",
    "        count_ls.append(game_core_v3(number))\n",
    "\n",
    "    score = int(np.mean(count_ls)) # находим среднее количество попыток\n",
    "\n",
    "    print(f'Ваш алгоритм угадывает число в среднем за: {score} попыток')\n",
    "    return score\n",
    "\n",
    "\n",
    "# RUN\n",
    "if __name__ == '__main__':\n",
    "   score_game_core_v3(game_core_v3)"
   ]
  }
 ],
 "metadata": {
  "kernelspec": {
   "display_name": "Python 3",
   "language": "python",
   "name": "python3"
  },
  "language_info": {
   "codemirror_mode": {
    "name": "ipython",
    "version": 3
   },
   "file_extension": ".py",
   "mimetype": "text/x-python",
   "name": "python",
   "nbconvert_exporter": "python",
   "pygments_lexer": "ipython3",
   "version": "3.10.7"
  },
  "orig_nbformat": 4
 },
 "nbformat": 4,
 "nbformat_minor": 2
}
